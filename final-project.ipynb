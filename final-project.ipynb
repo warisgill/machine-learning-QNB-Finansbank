{
 "cells": [
  {
   "cell_type": "markdown",
   "metadata": {},
   "source": [
    "# Modeling Outbound Reach Rate of a Call Center \n"
   ]
  },
  {
   "cell_type": "markdown",
   "metadata": {},
   "source": [
    "    Course: Machine Learning\n",
    "    Instructor: Mehmet Gönen\n",
    "    \n",
    "    Name : Waris Gill\n",
    "    ID   : 0067664\n",
    "    \n",
    "    For better results check the html file or run jupyter notebook."
   ]
  },
  {
   "cell_type": "markdown",
   "metadata": {},
   "source": [
    "### Packages required for the Assignment\n",
    "(I have used some of the packages in the assignment, and other are just for testing and for experimentation) "
   ]
  },
  {
   "cell_type": "code",
   "execution_count": 1,
   "metadata": {},
   "outputs": [],
   "source": [
    "import matplotlib.pyplot as plt\n",
    "import scipy.io\n",
    "import scipy.misc\n",
    "import numpy as np\n",
    "import pandas as pd\n",
    "from sklearn.feature_selection import VarianceThreshold\n",
    "from sklearn import model_selection\n",
    "from sklearn.datasets import make_classification\n",
    "from sklearn.ensemble import ExtraTreesClassifier\n",
    "from sklearn.ensemble import RandomForestClassifier\n",
    "from sklearn.ensemble import BaggingClassifier\n",
    "from sklearn.tree import DecisionTreeClassifier\n",
    "from sklearn.ensemble import GradientBoostingClassifier\n",
    "from sklearn.linear_model import LogisticRegression\n",
    "from sklearn.ensemble import VotingClassifier\n",
    "from sklearn.discriminant_analysis import QuadraticDiscriminantAnalysis\n",
    "from sklearn.naive_bayes import GaussianNB\n",
    "from sklearn.gaussian_process import GaussianProcessClassifier\n",
    "from sklearn.gaussian_process.kernels import RBF\n",
    "from sklearn.svm import SVC\n",
    "from sklearn.svm import LinearSVC\n",
    "from sklearn.model_selection import GridSearchCV\n",
    "import warnings  \n",
    "warnings.filterwarnings('ignore')"
   ]
  },
  {
   "cell_type": "code",
   "execution_count": 2,
   "metadata": {
    "scrolled": false
   },
   "outputs": [],
   "source": [
    "dfx = pd.read_csv(\"training_data.csv\")\n",
    "dfy = pd.read_csv(\"training_labels.csv\",header=None)\n",
    "X = dfx.values\n",
    "Y = dfy.values\n",
    "\n",
    "seed = 7\n",
    "scoring = 'roc_auc' # scoring parameter \n"
   ]
  },
  {
   "cell_type": "markdown",
   "metadata": {},
   "source": [
    "# For Dimensionality Reduction\n",
    "The one of the most important step in ML experiments is to extract the useful feature from the given features. By reducing the number of features our model will run faster and will have better performance. So, to extract useful features I have tried different algorithms and for our data I have found that decesion tree based feature extraction perfoms really good and run faster. Below code ranks the features from highest to lowest i.e 1st feature is more importance as compared the 2nd and so on. \n",
    "\n",
    "And I have found that first top 8 to 12 are enough to train our model but I have used more than these features to see the performance and score but it did not make any difference. "
   ]
  },
  {
   "cell_type": "code",
   "execution_count": 24,
   "metadata": {
    "scrolled": true
   },
   "outputs": [
    {
     "name": "stdout",
     "output_type": "stream",
     "text": [
      "Feature ranking:\n",
      "1. feature 69 (0.076693)\n",
      "2. feature 73 (0.072393)\n",
      "3. feature 71 (0.070356)\n",
      "4. feature 1 (0.066811)\n",
      "5. feature 0 (0.054096)\n",
      "6. feature 123 (0.038272)\n",
      "7. feature 68 (0.037923)\n",
      "8. feature 72 (0.035266)\n",
      "9. feature 122 (0.032122)\n",
      "10. feature 70 (0.027352)\n",
      "11. feature 35 (0.013530)\n",
      "12. feature 74 (0.013431)\n",
      "13. feature 6 (0.013163)\n",
      "14. feature 4 (0.011273)\n",
      "15. feature 98 (0.010585)\n",
      "16. feature 127 (0.010159)\n",
      "17. feature 80 (0.009836)\n",
      "18. feature 133 (0.009655)\n",
      "19. feature 97 (0.009535)\n",
      "20. feature 131 (0.009386)\n",
      "21. feature 8 (0.009248)\n",
      "22. feature 130 (0.009083)\n",
      "23. feature 132 (0.009051)\n",
      "24. feature 134 (0.009011)\n",
      "25. feature 5 (0.008996)\n",
      "26. feature 126 (0.008917)\n",
      "27. feature 104 (0.008914)\n",
      "28. feature 125 (0.008847)\n",
      "29. feature 79 (0.008841)\n",
      "30. feature 128 (0.008838)\n",
      "31. feature 124 (0.008810)\n",
      "32. feature 116 (0.008510)\n",
      "33. feature 95 (0.008471)\n",
      "34. feature 91 (0.008217)\n",
      "35. feature 103 (0.008190)\n",
      "36. feature 139 (0.008121)\n",
      "37. feature 88 (0.008106)\n",
      "38. feature 138 (0.008105)\n",
      "39. feature 21 (0.007941)\n",
      "40. feature 140 (0.007896)\n",
      "41. feature 87 (0.007852)\n",
      "42. feature 9 (0.007353)\n",
      "43. feature 11 (0.007295)\n",
      "44. feature 96 (0.007280)\n",
      "45. feature 136 (0.006939)\n",
      "46. feature 101 (0.006896)\n",
      "47. feature 137 (0.006893)\n",
      "48. feature 117 (0.006835)\n",
      "49. feature 106 (0.006535)\n",
      "50. feature 57 (0.006435)\n",
      "51. feature 86 (0.006202)\n",
      "52. feature 67 (0.005932)\n",
      "53. feature 112 (0.005896)\n",
      "54. feature 135 (0.005881)\n",
      "55. feature 111 (0.005857)\n",
      "56. feature 90 (0.005417)\n",
      "57. feature 129 (0.005371)\n",
      "58. feature 85 (0.005064)\n",
      "59. feature 17 (0.004417)\n",
      "60. feature 115 (0.004116)\n",
      "61. feature 49 (0.003962)\n",
      "62. feature 60 (0.003686)\n",
      "63. feature 63 (0.003669)\n",
      "64. feature 83 (0.003389)\n",
      "65. feature 141 (0.003261)\n",
      "66. feature 62 (0.003218)\n",
      "67. feature 48 (0.003202)\n",
      "68. feature 44 (0.002912)\n",
      "69. feature 32 (0.002691)\n",
      "70. feature 7 (0.002228)\n",
      "71. feature 118 (0.002207)\n",
      "72. feature 77 (0.002077)\n",
      "73. feature 28 (0.001976)\n",
      "74. feature 76 (0.001971)\n",
      "75. feature 43 (0.001971)\n",
      "76. feature 99 (0.001940)\n",
      "77. feature 58 (0.001901)\n",
      "78. feature 29 (0.001761)\n",
      "79. feature 18 (0.001736)\n",
      "80. feature 108 (0.001704)\n",
      "81. feature 16 (0.001545)\n",
      "82. feature 100 (0.001517)\n",
      "83. feature 34 (0.001505)\n",
      "84. feature 13 (0.001384)\n",
      "85. feature 114 (0.001349)\n",
      "86. feature 23 (0.001273)\n",
      "87. feature 110 (0.001184)\n",
      "88. feature 119 (0.001159)\n",
      "89. feature 19 (0.001049)\n",
      "90. feature 84 (0.000977)\n",
      "91. feature 56 (0.000916)\n",
      "92. feature 78 (0.000903)\n",
      "93. feature 40 (0.000901)\n",
      "94. feature 36 (0.000858)\n",
      "95. feature 75 (0.000857)\n",
      "96. feature 121 (0.000812)\n",
      "97. feature 47 (0.000791)\n",
      "98. feature 38 (0.000747)\n",
      "99. feature 59 (0.000720)\n",
      "100. feature 65 (0.000619)\n",
      "101. feature 92 (0.000603)\n",
      "102. feature 52 (0.000546)\n",
      "103. feature 15 (0.000535)\n",
      "104. feature 45 (0.000515)\n",
      "105. feature 55 (0.000500)\n",
      "106. feature 53 (0.000495)\n",
      "107. feature 89 (0.000481)\n",
      "108. feature 82 (0.000346)\n",
      "109. feature 27 (0.000346)\n",
      "110. feature 22 (0.000339)\n",
      "111. feature 12 (0.000336)\n",
      "112. feature 24 (0.000321)\n",
      "113. feature 2 (0.000306)\n",
      "114. feature 120 (0.000306)\n",
      "115. feature 51 (0.000292)\n",
      "116. feature 94 (0.000275)\n",
      "117. feature 26 (0.000245)\n",
      "118. feature 42 (0.000207)\n",
      "119. feature 25 (0.000189)\n",
      "120. feature 39 (0.000183)\n",
      "121. feature 14 (0.000181)\n",
      "122. feature 37 (0.000171)\n",
      "123. feature 54 (0.000168)\n",
      "124. feature 30 (0.000164)\n",
      "125. feature 20 (0.000154)\n",
      "126. feature 64 (0.000141)\n",
      "127. feature 66 (0.000110)\n",
      "128. feature 81 (0.000109)\n",
      "129. feature 3 (0.000101)\n",
      "130. feature 31 (0.000093)\n",
      "131. feature 50 (0.000052)\n",
      "132. feature 61 (0.000041)\n",
      "133. feature 10 (0.000037)\n",
      "134. feature 107 (0.000037)\n",
      "135. feature 93 (0.000032)\n",
      "136. feature 102 (0.000028)\n",
      "137. feature 46 (0.000020)\n",
      "138. feature 105 (0.000017)\n",
      "139. feature 109 (0.000010)\n",
      "140. feature 33 (0.000009)\n",
      "141. feature 41 (0.000005)\n",
      "142. feature 113 (0.000004)\n"
     ]
    },
    {
     "data": {
      "image/png": "[encoded data removed]",
      "text/plain": [
       "<Figure size 432x288 with 1 Axes>"
      ]
     },
     "metadata": {
      "needs_background": "light"
     },
     "output_type": "display_data"
    },
    {
     "name": "stdout",
     "output_type": "stream",
     "text": [
      "Indices of features  : [ 69  73  71   1   0 123  68  72 122  70  35  74   6   4  98 127  80 133\n",
      "  97 131   8 130 132 134   5 126 104 125  79 128 124 116  95  91 103 139\n",
      "  88 138  21 140  87   9  11  96 136 101 137 117 106  57  86  67 112 135\n",
      " 111  90 129  85  17 115  49  60  63  83 141  62  48  44  32   7 118  77\n",
      "  28  76  43  99  58  29  18 108  16 100  34  13 114  23 110 119  19  84\n",
      "  56  78  40  36  75 121  47  38  59  65  92  52  15  45  55  53  89  82\n",
      "  27  22  12  24   2 120  51  94  26  42  25  39  14  37  54  30  20  64\n",
      "  66  81   3  31  50  61  10 107  93 102  46 105 109  33  41 113]\n"
     ]
    }
   ],
   "source": [
    "num_trees = 64\n",
    "# Build a forest and compute the feature importances\n",
    "forest = RandomForestClassifier(n_estimators= 24,random_state=seed)\n",
    "# forest = GradientBoostingClassifier(n_estimators=num_trees, random_state=seed)\n",
    "# RandomForestClassifier(n_estimators=num_trees,random_state=seed, max_depth = 3, min_samples_leaf=4)\n",
    "forest.fit(X, np.ravel(Y))\n",
    "importances = forest.feature_importances_\n",
    "# print(importances)\n",
    "std = np.std([tree.feature_importances_ for tree in forest.estimators_],axis=0)\n",
    "indices = np.argsort(importances)[::-1]\n",
    "\n",
    "# Print the feature ranking\n",
    "print(\"Feature ranking:\")\n",
    "\n",
    "for f in range(X.shape[1]):\n",
    "    print(\"%d. feature %d (%f)\" % (f + 1, indices[f], importances[indices[f]]))\n",
    "\n",
    "# Plot the feature importances of the forest\n",
    "plt.figure()\n",
    "plt.title(\"Feature importances\")\n",
    "plt.bar(range(X.shape[1]), importances[indices],color=\"r\", yerr=std[indices], align=\"center\")\n",
    "plt.xticks(range(X.shape[1]), indices)\n",
    "plt.xlim([-1, X.shape[1]])\n",
    "plt.show()\n",
    "print(\"Indices of features  :\",indices)"
   ]
  },
  {
   "cell_type": "markdown",
   "metadata": {},
   "source": [
    "# Different Models\n",
    "Here are the different set of models which I have used during my assignment to find the best model. And after fine tuning of hyperparameters I have found that Stochastic Gradient Boosting (a boosting algorithm which is similar to adaboos) performs better as compared to other algorithms. \n",
    "\n",
    "In all these models I have used scoring parameter = AUROC value because it is required in the assignment. \n",
    "\n",
    "(The predictive quality of your solution will be evaluated in terms of its AUROC value on the test set.)\n",
    "\n",
    "The other faster algorithm was logistic regression it was surprisingly running fast and its AUC was very close to SGB. \n"
   ]
  },
  {
   "cell_type": "markdown",
   "metadata": {},
   "source": [
    "### 1. Bagged Decision Trees for Classification"
   ]
  },
  {
   "cell_type": "code",
   "execution_count": 5,
   "metadata": {},
   "outputs": [],
   "source": [
    "def BDTC(X,Y,num_trees,kfold):\n",
    "    cart = DecisionTreeClassifier()\n",
    "    model = BaggingClassifier(base_estimator=cart, n_estimators=num_trees, random_state=seed)\n",
    "\n",
    "    results = model_selection.cross_val_score(model, X,np.ravel(Y), cv=kfold, n_jobs=-1,scoring=scoring)\n",
    "    print(results.mean())\n",
    "    print(\"AUC:\", results.mean())\n",
    "    print(\"Std:\", results.std())"
   ]
  },
  {
   "cell_type": "markdown",
   "metadata": {},
   "source": [
    "### 2. Random Forest Classifier"
   ]
  },
  {
   "cell_type": "code",
   "execution_count": 6,
   "metadata": {},
   "outputs": [],
   "source": [
    "def RFC(X,Y,num_trees,kfold):\n",
    "    max_features = 20 # ignored\n",
    "    model = RandomForestClassifier(n_estimators=num_trees,random_state=seed, max_depth = 3)\n",
    "\n",
    "    results = model_selection.cross_val_score(model, X,np.ravel(Y), cv=kfold, n_jobs=-1,scoring=scoring)\n",
    "#     print(results.mean())\n",
    "#     print(\"AUC:\", results.mean())\n",
    "#     print(\"Std:\", results.std())\n",
    "    return results.mean()"
   ]
  },
  {
   "cell_type": "markdown",
   "metadata": {},
   "source": [
    "### 3. Extra Tree Classifier"
   ]
  },
  {
   "cell_type": "code",
   "execution_count": 7,
   "metadata": {},
   "outputs": [],
   "source": [
    "def EXT(X,Y,num_trees,kfold):\n",
    "    model = ExtraTreesClassifier(n_estimators=num_trees,random_state=seed)\n",
    "    results = model_selection.cross_val_score(model, X,np.ravel(Y), cv=kfold, n_jobs=-1,scoring=scoring)\n",
    "    return results.mean()"
   ]
  },
  {
   "cell_type": "markdown",
   "metadata": {},
   "source": [
    "### 4. Stochastic Gradient Boosting"
   ]
  },
  {
   "cell_type": "code",
   "execution_count": 8,
   "metadata": {},
   "outputs": [],
   "source": [
    "def SGB (X,Y,num_trees,kfold): \n",
    "    model = GradientBoostingClassifier(n_estimators=num_trees, random_state=seed)\n",
    "    results = model_selection.cross_val_score(model, X,np.ravel(Y), cv=kfold, n_jobs=-1,scoring=scoring)\n",
    "#     print(results.mean())\n",
    "#     print(\"AUC:\", results.mean())\n",
    "#     print(\"Std:\", results.std())\n",
    "    return results.mean()"
   ]
  },
  {
   "cell_type": "markdown",
   "metadata": {},
   "source": [
    "### 5. Voting Ensemble"
   ]
  },
  {
   "cell_type": "code",
   "execution_count": 9,
   "metadata": {},
   "outputs": [],
   "source": [
    "def voting(X,Y,num_trees,kfold):\n",
    "    # create the sub models\n",
    "    estimators = []\n",
    "    \n",
    "    model1 = LogisticRegression()\n",
    "#     model2 = QuadraticDiscriminantAnalysis()\n",
    "#     model3 = GaussianNB()\n",
    "#     model4 = DecisionTreeClassifier(random_state=seed,max_depth = 3)\n",
    "    model5 = RandomForestClassifier(n_estimators=num_trees,random_state=seed, max_depth = 3, min_samples_leaf=4)\n",
    "    model6 = GradientBoostingClassifier(n_estimators=num_trees, random_state=seed)\n",
    "    \n",
    "    estimators.append(('m1', model1))\n",
    "#     estimators.append(('m2', model2))  \n",
    "#     estimators.append(('m3', model3))\n",
    "# #     estimators.append(('m4', model4))\n",
    "    estimators.append(('m5', model5))\n",
    "    estimators.append(('m6', model6))\n",
    "    \n",
    "    \n",
    "    # create the ensemble model\n",
    "    model = VotingClassifier(estimators,voting=\"soft\")\n",
    "    results = model_selection.cross_val_score(model, X,np.ravel(Y), cv=kfold, n_jobs=-1,scoring=scoring)\n",
    "    return results.mean()"
   ]
  },
  {
   "cell_type": "markdown",
   "metadata": {},
   "source": [
    "###  6. More Models"
   ]
  },
  {
   "cell_type": "code",
   "execution_count": 10,
   "metadata": {},
   "outputs": [],
   "source": [
    "def algo1_LogisticRegression(X,Y,kfold):    \n",
    "#     print(\"Features \",X.shape[1])\n",
    "    model = LogisticRegression()\n",
    "    results = model_selection.cross_val_score(model, X,np.ravel(Y), cv=kfold, n_jobs=-1,scoring=scoring)\n",
    "    print(\"Logistic Reg :\", results.mean())\n",
    "    return results.mean()\n",
    "\n",
    "\n",
    "def algo2_QDA(X,Y,kfold):    \n",
    "#     print(\"Features \",X.shape[1])\n",
    "    model = QuadraticDiscriminantAnalysis()\n",
    "    results = model_selection.cross_val_score(model, X,np.ravel(Y), cv=kfold, n_jobs=-1,scoring=scoring)\n",
    "    print(\"QDA :\", results.mean())\n",
    "    return results.mean()\n",
    "\n",
    "def algo3_GaussianNB(X,Y,kfold):\n",
    "#     print(\"Features \",X.shape[1])\n",
    "    model = GaussianNB()\n",
    "    results = model_selection.cross_val_score(model, X,np.ravel(Y), cv=kfold, n_jobs=-1,scoring=scoring)\n",
    "    print(\"GaussianNB :\", results.mean())\n",
    "    return results.mean()\n",
    "\n",
    "def algo4_tree(X,Y,kfold):\n",
    "    model = DecisionTreeClassifier(random_state=seed,max_depth = 3)\n",
    "    results = model_selection.cross_val_score(model, X,np.ravel(Y), cv=kfold, n_jobs=-1,scoring=scoring)\n",
    "    print(\"Tree :\", results.mean())\n",
    "    return results.mean()\n",
    "\n",
    "# def algo4_LinearSVC(X,Y,kfold):\n",
    "#     model = LinearSVC(random_state=seed, tol=1e-5)\n",
    "#     results = model_selection.cross_val_score(model, X,np.ravel(Y), cv=kfold, n_jobs=-1,scoring=scoring)\n",
    "#     print(\"Linear SVC :\", results.mean())\n",
    "#     return results.mean()\n",
    "\n",
    "# def algo5_SVC(X,Y,kfold):\n",
    "# #     print(\"Features \",X.shape[1])\n",
    "#     model = SVC(gamma='auto')\n",
    "#     results = model_selection.cross_val_score(model, X,np.ravel(Y), cv=kfold, n_jobs=-1,scoring=scoring)\n",
    "#     print(\"SVC :\", results.mean())\n",
    "#     return results.mean()\n",
    "\n",
    "\n"
   ]
  },
  {
   "cell_type": "markdown",
   "metadata": {},
   "source": [
    "# Best Model With Optimize set of Parameters"
   ]
  },
  {
   "cell_type": "code",
   "execution_count": 28,
   "metadata": {},
   "outputs": [
    {
     "name": "stdout",
     "output_type": "stream",
     "text": [
      "****************  More Accurate Solution **********************\n",
      "[[0.66267808 0.33732192]\n",
      " [0.81379426 0.18620574]\n",
      " [0.97679922 0.02320078]\n",
      " ...\n",
      " [0.90881294 0.09118706]\n",
      " [0.91880553 0.08119447]\n",
      " [0.91880553 0.08119447]]\n",
      "AUC =  0.7629894190764027\n",
      "Probabilities on the test data are written to the file  :  predicted_probs.csv\n"
     ]
    }
   ],
   "source": [
    "print(\"****************  More Accurate Solution **********************\")\n",
    "\n",
    "num_features = 36\n",
    "selected_feature_indices=indices[:num_features]\n",
    "folds = 10\n",
    "num_trees = 64\n",
    "\n",
    "kfold = model_selection.StratifiedKFold(n_splits=folds, random_state=None, shuffle=True)\n",
    "model = GradientBoostingClassifier(n_estimators=num_trees, random_state=seed)\n",
    "param_grid = {'n_estimators': [64]}\n",
    "\n",
    "grid_clf = GridSearchCV(estimator=model,param_grid =param_grid ,cv=kfold,scoring=scoring)\n",
    "grid_clf.fit(np.take(X,selected_feature_indices,axis=1),np.ravel(Y))\n",
    "\n",
    "Xtest = pd.read_csv(\"test_data.csv\").values\n",
    "Xtest=np.take(Xtest,selected_feature_indices,axis=1)\n",
    "final_probs = grid_clf.predict_proba(Xtest)\n",
    "\n",
    "file_name = \"predicted_probs.csv\"\n",
    "np.savetxt(file_name,np.take(final_probs,[1],axis=1),delimiter=\",\")\n",
    "\n",
    "print(final_probs)\n",
    "print(\"AUC = \",grid_clf.best_score_) \n",
    "print(\"Probabilities on the test data are written to the file  : \", file_name)"
   ]
  },
  {
   "cell_type": "markdown",
   "metadata": {},
   "source": [
    "# Experiments With Different Models\n",
    "\n",
    "In this section I have run differnet algorithms to tune the hyper paramerters. You can uncomment the below section to see the different models in action."
   ]
  },
  {
   "cell_type": "code",
   "execution_count": 12,
   "metadata": {},
   "outputs": [],
   "source": [
    "def comparison(X,Y,num_trees,folds):\n",
    "    #     print(\"Features: \", X.shape[1])\n",
    "    kfold = model_selection.StratifiedKFold(n_splits=folds, random_state=seed, shuffle=True)\n",
    "    \n",
    "    #     algo1_LogisticRegression(X,Y,kfold)\n",
    "    #     algo2_QDA(X,Y,kfold)\n",
    "    #     algo3_GaussianNB(X,Y,kfold)\n",
    "    auc1 = RFC(X,Y,num_trees,kfold)\n",
    "    auc1 = round(auc1,4)\n",
    "    auc2 = SGB(X,Y,num_trees,kfold)\n",
    "    auc2 = round(auc2,4)\n",
    "    #     auc3 = voting(X,Y,num_trees,kfold) \n",
    "    #     auc3 = round(auc3,3)\n",
    "    #     algo2_LinearSVC(X,Y,kfold)\n",
    "    #     algo3_SVC(X,Y,kfold)\n",
    "    print(\"Feature = {feature}, Trees = {trees}, Folds = {folds}, AUC_F = {auc1}, AUC_G={auc2}\".format(\n",
    "        feature=X.shape[1],trees=num_trees,folds=folds,auc1=auc1,auc2=auc2))\n",
    "    \n",
    "    return None\n",
    "\n",
    "    \n",
    "# features_nums = [12,18]\n",
    "# tree_nums = [34,64,128]\n",
    "# kfolds = [10,20]\n",
    "\n",
    "# print(X.shape,Y.shape)\n",
    "# for kf in kfolds: \n",
    "#     print(\"****************** kf = {kf} **************************\".format(kf=kf))\n",
    "#     for t in tree_nums:\n",
    "#         print(\"\\n\\n\")\n",
    "#         for f in features_nums:\n",
    "#             selected_feature_indices=indices[:f]\n",
    "#             comparison(np.take(X,selected_feature_indices,axis=1),Y,t,kf)"
   ]
  }
 ],
 "metadata": {
  "kernelspec": {
   "display_name": "Python 3",
   "language": "python",
   "name": "python3"
  },
  "language_info": {
   "codemirror_mode": {
    "name": "ipython",
    "version": 3
   },
   "file_extension": ".py",
   "mimetype": "text/x-python",
   "name": "python",
   "nbconvert_exporter": "python",
   "pygments_lexer": "ipython3",
   "version": "3.7.1"
  }
 },
 "nbformat": 4,
 "nbformat_minor": 2
}
